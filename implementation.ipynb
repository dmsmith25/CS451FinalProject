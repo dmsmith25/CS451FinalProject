{
 "cells": [
  {
   "attachments": {},
   "cell_type": "markdown",
   "metadata": {},
   "source": [
    "# Final Proejct Code\n",
    "By: Dean Smith and David Brennan\n",
    "\n",
    "In this notebook, we will be performing bias analysis on the D3boards.com blog being favorable towards some teams. We will import our scraped data from the site and break it up by year, we will clean and prepare our data, we will train a Word2Vec word embedding for our data, and we will analyze our results."
   ]
  },
  {
   "cell_type": "code",
   "execution_count": 13,
   "metadata": {},
   "outputs": [
    {
     "name": "stdout",
     "output_type": "stream",
     "text": [
      "The autoreload extension is already loaded. To reload it, use:\n",
      "  %reload_ext autoreload\n"
     ]
    }
   ],
   "source": [
    "%load_ext autoreload\n",
    "%autoreload 2"
   ]
  },
  {
   "cell_type": "code",
   "execution_count": 14,
   "metadata": {},
   "outputs": [],
   "source": [
    "import pandas as pd\n",
    "import numpy as np\n",
    "import source"
   ]
  },
  {
   "attachments": {},
   "cell_type": "markdown",
   "metadata": {},
   "source": [
    "## Data Preparation\n",
    "\n",
    "First, we initiate our DataPrep() object from our source code to help us load our data. Lets see what our data looks like:"
   ]
  },
  {
   "cell_type": "code",
   "execution_count": 15,
   "metadata": {},
   "outputs": [
    {
     "data": {
      "text/html": [
       "<div>\n",
       "<style scoped>\n",
       "    .dataframe tbody tr th:only-of-type {\n",
       "        vertical-align: middle;\n",
       "    }\n",
       "\n",
       "    .dataframe tbody tr th {\n",
       "        vertical-align: top;\n",
       "    }\n",
       "\n",
       "    .dataframe thead th {\n",
       "        text-align: right;\n",
       "    }\n",
       "</style>\n",
       "<table border=\"1\" class=\"dataframe\">\n",
       "  <thead>\n",
       "    <tr style=\"text-align: right;\">\n",
       "      <th></th>\n",
       "      <th>User</th>\n",
       "      <th>Date</th>\n",
       "      <th>Message</th>\n",
       "    </tr>\n",
       "  </thead>\n",
       "  <tbody>\n",
       "    <tr>\n",
       "      <th>0</th>\n",
       "      <td>cameltime</td>\n",
       "      <td>April 27, 2005, 02:38:16 PM</td>\n",
       "      <td>Great post-up Jeff! Classic stuff.\\n</td>\n",
       "    </tr>\n",
       "    <tr>\n",
       "      <th>1</th>\n",
       "      <td>SD bball</td>\n",
       "      <td>May 01, 2005, 12:50:53 AM</td>\n",
       "      <td>Good quetions.  Both are good prospects for th...</td>\n",
       "    </tr>\n",
       "    <tr>\n",
       "      <th>2</th>\n",
       "      <td>cameltime</td>\n",
       "      <td>May 19, 2005, 01:37:17 PM</td>\n",
       "      <td>Charles Stone was getting meaner and nastier t...</td>\n",
       "    </tr>\n",
       "    <tr>\n",
       "      <th>3</th>\n",
       "      <td>jeff williams</td>\n",
       "      <td>June 07, 2005, 06:21:38 AM</td>\n",
       "      <td>Yet another two-guard is headed to Williams, K...</td>\n",
       "    </tr>\n",
       "    <tr>\n",
       "      <th>4</th>\n",
       "      <td>hook52</td>\n",
       "      <td>June 10, 2005, 07:35:54 AM</td>\n",
       "      <td>Amherst may have the deepest tesm in the NESCA...</td>\n",
       "    </tr>\n",
       "    <tr>\n",
       "      <th>...</th>\n",
       "      <td>...</td>\n",
       "      <td>...</td>\n",
       "      <td>...</td>\n",
       "    </tr>\n",
       "    <tr>\n",
       "      <th>30636</th>\n",
       "      <td>nescac1</td>\n",
       "      <td>March 23, 2024, 12:57:01 PM</td>\n",
       "      <td>David Murray to D2 Merrimack:https://x.com/ada...</td>\n",
       "    </tr>\n",
       "    <tr>\n",
       "      <th>30637</th>\n",
       "      <td>toad22</td>\n",
       "      <td>March 23, 2024, 02:59:57 PM</td>\n",
       "      <td>\\nQuote from: SpringSt7 on March 23, 2024, 10:...</td>\n",
       "    </tr>\n",
       "    <tr>\n",
       "      <th>30638</th>\n",
       "      <td>Bucket</td>\n",
       "      <td>March 23, 2024, 03:42:29 PM</td>\n",
       "      <td>\\nQuote from: nescac1 on March 23, 2024, 12:57...</td>\n",
       "    </tr>\n",
       "    <tr>\n",
       "      <th>30639</th>\n",
       "      <td>nescac1</td>\n",
       "      <td>March 23, 2024, 05:13:22 PM</td>\n",
       "      <td>Thanks Bucket, my bad!  Impressive for Murray ...</td>\n",
       "    </tr>\n",
       "    <tr>\n",
       "      <th>30640</th>\n",
       "      <td>nescac1</td>\n",
       "      <td>March 25, 2024, 08:34:51 PM</td>\n",
       "      <td>Seems like this will be a good read - by a for...</td>\n",
       "    </tr>\n",
       "  </tbody>\n",
       "</table>\n",
       "<p>30641 rows × 3 columns</p>\n",
       "</div>"
      ],
      "text/plain": [
       "                User                         Date  \\\n",
       "0          cameltime  April 27, 2005, 02:38:16 PM   \n",
       "1           SD bball    May 01, 2005, 12:50:53 AM   \n",
       "2          cameltime    May 19, 2005, 01:37:17 PM   \n",
       "3      jeff williams   June 07, 2005, 06:21:38 AM   \n",
       "4             hook52   June 10, 2005, 07:35:54 AM   \n",
       "...              ...                          ...   \n",
       "30636        nescac1  March 23, 2024, 12:57:01 PM   \n",
       "30637         toad22  March 23, 2024, 02:59:57 PM   \n",
       "30638         Bucket  March 23, 2024, 03:42:29 PM   \n",
       "30639        nescac1  March 23, 2024, 05:13:22 PM   \n",
       "30640        nescac1  March 25, 2024, 08:34:51 PM   \n",
       "\n",
       "                                                 Message  \n",
       "0                   Great post-up Jeff! Classic stuff.\\n  \n",
       "1      Good quetions.  Both are good prospects for th...  \n",
       "2      Charles Stone was getting meaner and nastier t...  \n",
       "3      Yet another two-guard is headed to Williams, K...  \n",
       "4      Amherst may have the deepest tesm in the NESCA...  \n",
       "...                                                  ...  \n",
       "30636  David Murray to D2 Merrimack:https://x.com/ada...  \n",
       "30637  \\nQuote from: SpringSt7 on March 23, 2024, 10:...  \n",
       "30638  \\nQuote from: nescac1 on March 23, 2024, 12:57...  \n",
       "30639  Thanks Bucket, my bad!  Impressive for Murray ...  \n",
       "30640  Seems like this will be a good read - by a for...  \n",
       "\n",
       "[30641 rows x 3 columns]"
      ]
     },
     "execution_count": 15,
     "metadata": {},
     "output_type": "execute_result"
    }
   ],
   "source": [
    "dataPrep = source.DataPrep()\n",
    "\n",
    "df = dataPrep.loadData()\n",
    "\n",
    "df"
   ]
  },
  {
   "attachments": {},
   "cell_type": "markdown",
   "metadata": {},
   "source": [
    "Next, we want to clean our data. Within this cleaning process we will:\n",
    "- Break up our data into different dataframes for each basketball season\n",
    "- Tokenize the messages in our data"
   ]
  },
  {
   "cell_type": "code",
   "execution_count": 16,
   "metadata": {},
   "outputs": [],
   "source": [
    "df = dataPrep.cleanData(df)"
   ]
  },
  {
   "attachments": {},
   "cell_type": "markdown",
   "metadata": {},
   "source": [
    "We now want to train our different Word2Vec word embeddings for each season in our data"
   ]
  },
  {
   "cell_type": "code",
   "execution_count": 17,
   "metadata": {},
   "outputs": [],
   "source": [
    "embedder = source.Model()\n",
    "\n",
    "models = embedder.trainModels(df)"
   ]
  },
  {
   "cell_type": "code",
   "execution_count": 18,
   "metadata": {},
   "outputs": [
    {
     "name": "stdout",
     "output_type": "stream",
     "text": [
      "Sentiment Scores for 2013: \n",
      "- middlebury: 0.21141724\n",
      "- amherst: 0.2150549\n",
      "- williams: 0.21970417\n",
      "\n",
      "\n",
      "Sentiment Scores for 2014: \n",
      "- middlebury: 0.12807351\n",
      "- amherst: 0.124445714\n",
      "- williams: 0.12472982\n",
      "\n",
      "\n",
      "Sentiment Scores for 2015: \n",
      "- middlebury: 0.21114159\n",
      "- amherst: 0.21090896\n",
      "- williams: 0.21368007\n",
      "\n",
      "\n",
      "Sentiment Scores for 2016: \n",
      "- middlebury: 0.30631256\n",
      "- amherst: 0.30065885\n",
      "- williams: 0.2957276\n",
      "\n",
      "\n",
      "Sentiment Scores for 2017: \n",
      "- middlebury: 0.13617274\n",
      "- amherst: 0.14143053\n",
      "- williams: 0.12769403\n",
      "\n",
      "\n",
      "Sentiment Scores for 2018: \n",
      "- middlebury: 0.25918135\n",
      "- amherst: 0.25283134\n",
      "- williams: 0.25767225\n",
      "\n",
      "\n",
      "Sentiment Scores for 2019: \n",
      "- middlebury: 0.17812094\n",
      "- amherst: 0.179573\n",
      "- williams: 0.17711875\n",
      "\n",
      "\n",
      "Sentiment Scores for 2022: \n",
      "- middlebury: 0.23375693\n",
      "- amherst: 0.23845223\n",
      "- williams: 0.23024811\n",
      "\n",
      "\n",
      "Sentiment Scores for 2023: \n",
      "- middlebury: 0.20500903\n",
      "- amherst: 0.20518802\n",
      "- williams: 0.20250651\n",
      "\n",
      "\n",
      "Sentiment Scores for 2024: \n",
      "- middlebury: 0.21011858\n",
      "- amherst: 0.21210533\n",
      "- williams: 0.20932688\n",
      "\n",
      "\n"
     ]
    }
   ],
   "source": [
    "evaluator = source.BiasEval()\n",
    "\n",
    "teams = [\"middlebury\", \"amherst\", \"williams\"]\n",
    "\n",
    "sentimentScores = {\n",
    "    \"2013\" : evaluator.getCosineSimScores(teams, models[\"2013\"], \"2013\"),\n",
    "    \"2014\" : evaluator.getCosineSimScores(teams, models[\"2014\"], \"2014\"),\n",
    "    \"2015\" : evaluator.getCosineSimScores(teams, models[\"2015\"], \"2015\"),\n",
    "    \"2016\" : evaluator.getCosineSimScores(teams, models[\"2016\"], \"2016\"),\n",
    "    \"2017\" : evaluator.getCosineSimScores(teams, models[\"2017\"], \"2017\"),\n",
    "    \"2018\" : evaluator.getCosineSimScores(teams, models[\"2018\"], \"2018\"),\n",
    "    \"2019\" : evaluator.getCosineSimScores(teams, models[\"2019\"], \"2019\"),\n",
    "    \"2022\" : evaluator.getCosineSimScores(teams, models[\"2022\"], \"2022\"),\n",
    "    \"2023\" : evaluator.getCosineSimScores(teams, models[\"2023\"], \"2023\"),\n",
    "    \"2024\" : evaluator.getCosineSimScores(teams, models[\"2024\"], \"2024\"),\n",
    "    #\"full\" : evaluator.getCosineSimScores(teams, models[\"full\"], \"full (2021-2024)\"),\n",
    "}"
   ]
  },
  {
   "cell_type": "code",
   "execution_count": 19,
   "metadata": {},
   "outputs": [
    {
     "data": {
      "image/png": "[encoded data removed]",
      "text/plain": [
       "<Figure size 640x480 with 1 Axes>"
      ]
     },
     "metadata": {},
     "output_type": "display_data"
    }
   ],
   "source": [
    "evaluator.graphPerformance(sentimentScores)"
   ]
  }
 ],
 "metadata": {
  "kernelspec": {
   "display_name": "Python 3",
   "language": "python",
   "name": "python3"
  },
  "language_info": {
   "codemirror_mode": {
    "name": "ipython",
    "version": 3
   },
   "file_extension": ".py",
   "mimetype": "text/x-python",
   "name": "python",
   "nbconvert_exporter": "python",
   "pygments_lexer": "ipython3",
   "version": "3.8.0"
  },
  "orig_nbformat": 4
 },
 "nbformat": 4,
 "nbformat_minor": 2
}
